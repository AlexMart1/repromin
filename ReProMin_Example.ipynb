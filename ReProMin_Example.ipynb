{
 "cells": [
  {
   "cell_type": "code",
   "execution_count": null,
   "metadata": {
    "collapsed": true
   },
   "outputs": [],
   "source": [
    "from repromin import *\n",
    "import pandas as pd"
   ]
  },
  {
   "cell_type": "markdown",
   "metadata": {},
   "source": [
    "# TRN analysis to determine candidate TFs"
   ]
  },
  {
   "cell_type": "code",
   "execution_count": null,
   "metadata": {
    "collapsed": false
   },
   "outputs": [],
   "source": [
    "help(TRN_analysis)"
   ]
  },
  {
   "cell_type": "code",
   "execution_count": null,
   "metadata": {
    "collapsed": false
   },
   "outputs": [],
   "source": [
    "candidate_TF = TRN_analysis(\"Essential_Genes_Glucose.csv\", \"Regulon_8.csv\", \"Proteomic_Data_Glucose.csv\", \n",
    "                            \"Essential_TF_Glucose.csv\", \"NonEssential_TF_Glucose.csv\")"
   ]
  },
  {
   "cell_type": "code",
   "execution_count": null,
   "metadata": {
    "collapsed": false
   },
   "outputs": [],
   "source": [
    "# Refine the analysis, only use candidate TFs with positive Proteomic Balance, this saves time in combinatorial analysis\n",
    "\n",
    "positive_candidate_TF = TRN_analysis(\"Essential_Genes_Glucose.csv\", \"Regulon_8.csv\", \"Proteomic_Data_Glucose.csv\",\n",
    "                                     \"Essential_TF_Glucose.csv\", \"NonEssential_TF_Glucose.csv\", refined=True)"
   ]
  },
  {
   "cell_type": "markdown",
   "metadata": {},
   "source": [
    "# 3KO Combinatorial analysis using candidate TFs with PB>0 (UT Case)"
   ]
  },
  {
   "cell_type": "code",
   "execution_count": null,
   "metadata": {
    "collapsed": false
   },
   "outputs": [],
   "source": [
    "help(combinatorial_analysis)"
   ]
  },
  {
   "cell_type": "code",
   "execution_count": null,
   "metadata": {
    "collapsed": false
   },
   "outputs": [],
   "source": [
    "combinatorial_analysis(\"Regulon_8.csv\", \"Proteomic_Data_Glucose.csv\", positive_candidate_TF, 3, \"3KO_combinations.csv\")"
   ]
  },
  {
   "cell_type": "markdown",
   "metadata": {},
   "source": [
    "# 3KO Combinatorial analysis using ALL non-essential TFs (ST Case)"
   ]
  },
  {
   "cell_type": "code",
   "execution_count": null,
   "metadata": {
    "collapsed": false
   },
   "outputs": [],
   "source": [
    "# Note: This command takes too long to run (approx. 72 hrs)\n",
    "TFs = pd.read_csv(\"NonEssential_TF_Glucose.csv\")[\"TF\"].tolist()\n",
    "combinatorial_analysis(\"Regulon_8.csv\", \"Proteomic_Data_Glucose.csv\", TFs, 3, \"3KO_combinations_all_NE_TF.csv\")"
   ]
  },
  {
   "cell_type": "markdown",
   "metadata": {},
   "source": [
    "# Manual search for an individual TF or a combination"
   ]
  },
  {
   "cell_type": "code",
   "execution_count": null,
   "metadata": {
    "collapsed": false
   },
   "outputs": [],
   "source": [
    "help(search_TF_combination)"
   ]
  },
  {
   "cell_type": "code",
   "execution_count": null,
   "metadata": {
    "collapsed": false
   },
   "outputs": [],
   "source": [
    "combination=[\"PhoB\",\"YedW\",\"CusR\"]\n",
    "\n",
    "search_TF_combination(\"Regulon_8.csv\",\"Proteomic_Data_Glucose.csv\",combination)\n",
    "    "
   ]
  },
  {
   "cell_type": "code",
   "execution_count": null,
   "metadata": {
    "collapsed": true
   },
   "outputs": [],
   "source": []
  }
 ],
 "metadata": {
  "kernelspec": {
   "display_name": "Python 3",
   "language": "python",
   "name": "python3"
  },
  "language_info": {
   "codemirror_mode": {
    "name": "ipython",
    "version": 3
   },
   "file_extension": ".py",
   "mimetype": "text/x-python",
   "name": "python",
   "nbconvert_exporter": "python",
   "pygments_lexer": "ipython3",
   "version": "3.6.0"
  }
 },
 "nbformat": 4,
 "nbformat_minor": 2
}
